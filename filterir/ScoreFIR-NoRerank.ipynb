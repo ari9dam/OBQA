{
 "cells": [
  {
   "cell_type": "code",
   "execution_count": 1,
   "metadata": {},
   "outputs": [],
   "source": [
    "import operator\n",
    "import spacy\n",
    "nlp = spacy.load(\"en_core_web_md\")"
   ]
  },
  {
   "cell_type": "code",
   "execution_count": 2,
   "metadata": {},
   "outputs": [],
   "source": [
    "docmap={}"
   ]
  },
  {
   "cell_type": "code",
   "execution_count": null,
   "metadata": {},
   "outputs": [],
   "source": [
    "# irlist = [\"data/wordintersection/score-val-top10-merged-val.tsv\",\"data/wordintersection/score-val-val-trained.tsv\"]\n",
    "# irlist.extend([\"data/wordunion/score-val-ir-top10-merged-val-wordunion.tsv\",\"data/wordunion/score-val-val-trained-wordunion.tsv\"])\n",
    "# irlist.extend([\"data/bagofwords/score-val-ir-top10-merged-bow-val.tsv\",\"data/bagofwords/score-val-ir-not-merged-bow-val.tsv\"])\n",
    "# irlist.extend([\"data/seq2seq/score-val-ir-top10-merged-val-seq2seq.tsv\",\"data/seq2seq/score-val-ir-val-trained-seq2seq.tsv\"])\n",
    "\n",
    "# scorelist = [\"data/wordintersection/score-val-top10-merged-val.tsv-score.tsv\",\"data/wordintersection/score-val-val-trained.tsv-score.tsv\"]\n",
    "# scorelist.extend([\"data/wordunion/score-val-ir-top10-merged-val-wordunion.tsv-score.tsv\",\"data/wordunion/score-val-val-trained-wordunion.tsv-score.tsv\"])\n",
    "# scorelist.extend([\"data/bagofwords/score-val-ir-top10-merged-bow-val.tsv-score.tsv\",\"data/bagofwords/score-val-ir-not-merged-bow-val.tsv-score.tsv\"])\n",
    "# scorelist.extend([\"data/seq2seq/score-val-ir-top10-merged-val-seq2seq.tsv-score.tsv\",\"data/seq2seq/score-val-ir-val-trained-seq2seq.tsv-score.tsv\"])\n",
    "\n",
    "# picklist = [\"data/wordintersection/ir-top10-val-merged-intersect.pickle\",\"data/wordintersection/ir-val-trained-intersect.pickle\"]\n",
    "# picklist.extend([\"data/wordunion/ir-top10-merged-val-union-merged.pickle\",\"data/wordunion/val-trained-merged.pickle\"])\n",
    "# picklist.extend([\"data/bagofwords/ir-top10-merged-bow.pickle\",\"data/bagofwords/ir-not-merged-bow.pickle\"])\n",
    "# picklist.extend([\"data/seq2seq/ir-top10-merged-val-seq2seq.pickle\",\"data/seq2seq/ir-val-trained-seq2seq.pickle\"])"
   ]
  },
  {
   "cell_type": "code",
   "execution_count": 15,
   "metadata": {},
   "outputs": [],
   "source": [
    "irlist = [\"data/wordintersection/score-test-top10-merged-test.tsv\",\"data/wordintersection/score-test-test-trained.tsv\"]\n",
    "irlist.extend([\"data/wordunion/score-test-ir-top10-merged-test-wordunion.tsv\",\"data/wordunion/score-test-test-trained-wordunion.tsv\"])\n",
    "irlist.extend([\"data/bagofwords/score-test-ir-top10-merged-bow-test.tsv\",\"data/bagofwords/score-test-ir-not-merged-bow-test.tsv\"])\n",
    "irlist.extend([\"data/seq2seq/score-test-ir-top10-merged-test-seq2seq.tsv\",\"data/seq2seq/score-test-ir-test-trained-seq2seq.tsv\"])\n",
    "\n",
    "scorelist = [\"data/wordintersection/score-test-top10-merged-test.tsv-score.tsv\",\"data/wordintersection/score-test-test-trained.tsv-score.tsv\"]\n",
    "scorelist.extend([\"data/wordunion/score-test-ir-top10-merged-test-wordunion.tsv-score.tsv\",\"data/wordunion/score-test-test-trained-wordunion.tsv-score.tsv\"])\n",
    "scorelist.extend([\"data/bagofwords/score-test-ir-top10-merged-bow-test.tsv-score.tsv\",\"data/bagofwords/score-test-ir-not-merged-bow-test.tsv-score.tsv\"])\n",
    "scorelist.extend([\"data/seq2seq/score-test-ir-top10-merged-test-seq2seq.tsv-score.tsv\",\"data/seq2seq/score-test-ir-test-trained-seq2seq.tsv-score.tsv\"])\n",
    "\n",
    "picklist = [\"data/wordintersection/ir-top10-test-merged-intersect.pickle\",\"data/wordintersection/ir-test-trained-intersect.pickle\"]\n",
    "picklist.extend([\"data/wordunion/ir-top10-merged-test-union-merged.pickle\",\"data/wordunion/test-trained-merged.pickle\"])\n",
    "picklist.extend([\"data/bagofwords/ir-top10-merged-bow.pickle\",\"data/bagofwords/ir-not-merged-bow.pickle\"])\n",
    "picklist.extend([\"data/seq2seq/ir-top10-merged-test-seq2seq.pickle\",\"data/seq2seq/ir-test-trained-seq2seq.pickle\"])"
   ]
  },
  {
   "cell_type": "code",
   "execution_count": 10,
   "metadata": {},
   "outputs": [],
   "source": []
  },
  {
   "cell_type": "code",
   "execution_count": 16,
   "metadata": {},
   "outputs": [],
   "source": [
    "testlines = open(\"../data/orig/orig-ques-test.tsv\").readlines()\n",
    "labelsdict = {}\n",
    "for line in testlines:\n",
    "    line=line.strip().split(\"\\t\")\n",
    "    qid = line[0]\n",
    "    label = line[-1]\n",
    "    labelsdict[qid]=int(label)\n",
    "    choices = line[2:6]\n",
    "    for index,choice in enumerate(choices):\n",
    "        labelsdict[qid+\":\"+str(index)]=choice"
   ]
  },
  {
   "cell_type": "code",
   "execution_count": 17,
   "metadata": {},
   "outputs": [],
   "source": [
    "from tqdm import tqdm\n",
    "\n",
    "def get_doc(docs):\n",
    "    if docs in docmap:\n",
    "        return docmap[docs]\n",
    "    docmap[docs] = nlp(docs)\n",
    "    return docmap[docs]\n",
    "\n",
    "def create_dataset(irtestlines,scorelines,labelsdict):\n",
    "    ir_dataset_f2= {}\n",
    "    for irline,scoreline in zip(irtestlines,scorelines):\n",
    "        scoreline = scoreline.strip().split(\"\\t\")\n",
    "        qidx = scoreline[0].split(\":\")\n",
    "        score =float(scoreline[-1])\n",
    "        qid = qidx[0]\n",
    "        hid = qidx[1]\n",
    "        qidx = qid+\":\"+hid\n",
    "        if qidx not in ir_dataset_f2:\n",
    "            ir_dataset_f2[qidx]=ir_dataset[qidx]\n",
    "            ir_dataset_f2[qidx][\"f2set\"]={}\n",
    "        irline = irline.strip().split(\"\\t\")\n",
    "        f2 = irline[2]\n",
    "        if len(f2.split(\" \")) > 3:\n",
    "            ir_dataset_f2[qidx][\"f2set\"][f2]=score\n",
    "\n",
    "    for qidx,row in tqdm(ir_dataset_f2.items()):\n",
    "        sorted_x = sorted(row[\"f2set\"].items(), key=operator.itemgetter(1))\n",
    "        row[\"f2set\"] = [i for i in reversed(sorted_x)]\n",
    "    return ir_dataset_f2"
   ]
  },
  {
   "cell_type": "code",
   "execution_count": 19,
   "metadata": {},
   "outputs": [
    {
     "name": "stdout",
     "output_type": "stream",
     "text": [
      "Current File: data/wordintersection/score-test-top10-merged-test.tsv-score.tsv.f2-reranked-repickled\n"
     ]
    },
    {
     "name": "stderr",
     "output_type": "stream",
     "text": [
      "100%|██████████| 2000/2000 [00:00<00:00, 38302.22it/s]\n"
     ]
    },
    {
     "name": "stdout",
     "output_type": "stream",
     "text": [
      "Current File: data/wordintersection/score-test-test-trained.tsv-score.tsv.f2-reranked-repickled\n"
     ]
    },
    {
     "name": "stderr",
     "output_type": "stream",
     "text": [
      "100%|██████████| 2000/2000 [00:00<00:00, 16137.28it/s]\n"
     ]
    },
    {
     "name": "stdout",
     "output_type": "stream",
     "text": [
      "Current File: data/wordunion/score-test-ir-top10-merged-test-wordunion.tsv-score.tsv.f2-reranked-repickled\n"
     ]
    },
    {
     "name": "stderr",
     "output_type": "stream",
     "text": [
      "100%|██████████| 2000/2000 [00:00<00:00, 38811.35it/s]\n"
     ]
    },
    {
     "name": "stdout",
     "output_type": "stream",
     "text": [
      "Current File: data/wordunion/score-test-test-trained-wordunion.tsv-score.tsv.f2-reranked-repickled\n"
     ]
    },
    {
     "name": "stderr",
     "output_type": "stream",
     "text": [
      "100%|██████████| 2000/2000 [00:00<00:00, 38748.43it/s]\n"
     ]
    },
    {
     "name": "stdout",
     "output_type": "stream",
     "text": [
      "Current File: data/bagofwords/score-test-ir-top10-merged-bow-test.tsv-score.tsv.f2-reranked-repickled\n"
     ]
    },
    {
     "name": "stderr",
     "output_type": "stream",
     "text": [
      "100%|██████████| 2000/2000 [00:00<00:00, 16563.48it/s]\n"
     ]
    },
    {
     "name": "stdout",
     "output_type": "stream",
     "text": [
      "Current File: data/bagofwords/score-test-ir-not-merged-bow-test.tsv-score.tsv.f2-reranked-repickled\n"
     ]
    },
    {
     "name": "stderr",
     "output_type": "stream",
     "text": [
      "100%|██████████| 2000/2000 [00:00<00:00, 49211.30it/s]\n"
     ]
    },
    {
     "name": "stdout",
     "output_type": "stream",
     "text": [
      "Current File: data/seq2seq/score-test-ir-top10-merged-test-seq2seq.tsv-score.tsv.f2-reranked-repickled\n"
     ]
    },
    {
     "name": "stderr",
     "output_type": "stream",
     "text": [
      "100%|██████████| 2000/2000 [00:00<00:00, 66521.87it/s]\n"
     ]
    },
    {
     "name": "stdout",
     "output_type": "stream",
     "text": [
      "Current File: data/seq2seq/score-test-ir-test-trained-seq2seq.tsv-score.tsv.f2-reranked-repickled\n"
     ]
    },
    {
     "name": "stderr",
     "output_type": "stream",
     "text": [
      "100%|██████████| 2000/2000 [00:00<00:00, 20791.41it/s]\n"
     ]
    }
   ],
   "source": [
    "import pickle\n",
    "\n",
    "for irfile,scorefile,pickfile in zip(irlist,scorelist,picklist):\n",
    "    print(\"Current File:\",scorefile+'.f2-reranked-repickled')\n",
    "    irtestlines = open(irfile).readlines()\n",
    "    scorelines = open(scorefile).readlines()\n",
    "    fd = open(pickfile,\"rb\")\n",
    "    ir_dataset = pickle.load(fd)\n",
    "    ir_dataset_reranked = create_dataset(irtestlines,scorelines,labelsdict)\n",
    "    with open(scorefile+'.no-reranked-repickled', 'wb+') as handle:\n",
    "        pickle.dump(ir_dataset_reranked, handle, protocol=pickle.HIGHEST_PROTOCOL)"
   ]
  },
  {
   "cell_type": "code",
   "execution_count": 24,
   "metadata": {},
   "outputs": [
    {
     "data": {
      "text/plain": [
       "{'hyp': 'A red-tailed hawk is searching for prey. It is most likely to swoop down on a gecko',\n",
       " 'f1list': [['hawks eat lizards', '18.651140'],\n",
       "  ['some birds are predators', '17.770297'],\n",
       "  ['eagles eat fish', '17.040488'],\n",
       "  ['eagles eat rabbits', '16.689134'],\n",
       "  ['an example of camouflage is an organism looking like leaves', '14.846638'],\n",
       "  ['an example of camouflage is when an organism looks like its environment',\n",
       "   '14.472994'],\n",
       "  ['birds sometimes eat insects', '14.119740'],\n",
       "  ['some predators move quickly to catch prey', '13.912813'],\n",
       "  ['a salamander eats insects', '6.660327'],\n",
       "  ['camouflage can be used for hunting for prey', '6.566403']],\n",
       " 'f2set': [('Baby red-tail hawk In their search for prey, redtails are often seen soaring our skies using updrafts and thermals.',\n",
       "   0.9988596111643431),\n",
       "  ('Red-tailed Hawk by Landon, age 10 If you see a bird that is eating a rattlesnake or mice, squirrel, rabbit or insect, it might be a red-tailed hawk.',\n",
       "   0.9987876425662383),\n",
       "  ('the red-tailed hawk, which preys on young;', 0.9987802900541296),\n",
       "  ('2 Like all birds of prey, or raptors, red-tailed hawks find prey using their sense of: Smell.',\n",
       "   0.998771548122875),\n",
       "  ('BotOffer() Title: Identifying red tailed hawks Description: Red tailed hawks are birds of prey of the same family as the eagle.',\n",
       "   0.9987601293481416),\n",
       "  ('Identifying red tailed hawks Red tailed hawks are birds of prey of the same family as the eagle.',\n",
       "   0.9987579943932593),\n",
       "  ('like the eagle who swoops on the prey.', 0.9987360693234104),\n",
       "  ('X1011709406-00379-90649</DOCNO> Identifying red tailed hawks Identifying red tailed hawks Hawks are birds of prey of the same family as the eagle, kite, and osprey.',\n",
       "   0.9987196786438328),\n",
       "  ('It is thought that they do this  in order to keep avian predators, like Red-tailed Hawks, from swooping down on them.',\n",
       "   0.9987024579190424),\n",
       "  ('A red-tailed hawk, most likely, looking down on the earth with keen eyesight so as to see its prey from such a distance.',\n",
       "   0.9987010798596032),\n",
       "  (\"It swoops down and catches it's prey.\", 0.998698880846071),\n",
       "  ('Many raptors (birds of prey) such as the red-tailed hawk may be seen hunting over the lower fields and the river slopes, circling and swooping low in search of small meals moving below in the long grass.',\n",
       "   0.998693803458877),\n",
       "  ('Prey items of red-tailed hawks are numerous.', 0.9986877508347743),\n",
       "  (\"It's most likely a Red-tailed Hawk.\", 0.9986789946353289),\n",
       "  ('Hawk The Red-Tailed Hawk is a bird of prey, a raptor from North America.',\n",
       "   0.9986594440538155),\n",
       "  ('like an eagle swooping on its prey.', 0.9986241411254562),\n",
       "  ('Like other hawks of this group, the Red-tailed Hawk soars on thermals over open country in search of its prey, or perches in a tree or utility pole at the edge of a meadow, watching for movement in the grass below.',\n",
       "   0.9985931654909058),\n",
       "  ('Red-tailed hawks soar over the prairie and woodlands in search of prey.',\n",
       "   0.9984661912511159),\n",
       "  ('X1011586223-00308-69997</DOCNO> Birds Of Prey by Noah A. Fry Birds Of Prey Birds of prey are birds that eat meat such as the Red-tailed Hawk.',\n",
       "   0.9983839298726315),\n",
       "  ('Red-tailed hawks are birds of prey, or raptor.', 0.998318050960647),\n",
       "  ('Red-tailed Hawk (10: all looked like non-migrants).', 0.998266084631853),\n",
       "  ('These include a bobcat, red fox, and birds of prey like the red-tailed hawk and great horned owl.',\n",
       "   0.9973073051279373),\n",
       "  ('Watch for bald and golden eagles searching for rabbits, and for red-tailed hawks, northern harriers, and short-eared owls snatching rodents from the field.',\n",
       "   0.9887361306299822),\n",
       "  ('Overhead, turkey vultures and red-tailed hawks search for prey.',\n",
       "   0.9870462562111453),\n",
       "  ('They had a red-tailed hawk, another owl, and something that looked like a falcon.',\n",
       "   0.9687362381046217),\n",
       "  (\"Birds of prey hunt on the tract, from red-tailed hawks to Cooper's and sharp-shinned hawks;\",\n",
       "   0.8942792320646012),\n",
       "  ('The Prairie Start by thinking big, like a red-tailed hawk, a regal bird of prey.',\n",
       "   0.7147038574314276),\n",
       "  ('And it is the only home of the leaf-tailed gecko, which looks like lichen until disturbed, when it opens a blood-red mouth and screams like a banshee.',\n",
       "   0.0021106512072706124),\n",
       "  ('During the winter, the preserve teems with wildlife, be it the elk grazing in the fields, bald eagles fishing in the gin-colored streams and ponds, or the rough-legged hawks, red-tailed hawks and golden eagles swooping up mice and voles.',\n",
       "   0.0014546299912917842),\n",
       "  ('No, they are preyed upon by almost all insect eating vertebrates including many birds, bats, shews, moles, oppossums, anteaters, tamanduas, echidnas, numbats, amphisbeneans, geckos, lizards, snakes, frogs, toads, salamanders and invertebrates like spiders, scorpions, centipedes, etc.',\n",
       "   0.0013873158241222102),\n",
       "  ('This is a great place for birds of prey like ospreys and red-tailed, red shouldered and broad winged hawks.',\n",
       "   0.0011870158792748322),\n",
       "  ('When leaf-tailed geckos spot a prey item, they focus on it, raise and wave their tail, and then launch themselves towards the food in a cat-like leap.',\n",
       "   0.0008697336105261309),\n",
       "  ('Red bats are tree dwellers, easily camouflaged in the foliage where they sometimes curl up in their tail membrane, looking more like a dead leaf than a bat.',\n",
       "   0.0007149695488994121),\n",
       "  ('Their strong tail allows them to move quickly in the water to catch prey.',\n",
       "   0.0006586459578186307)]}"
      ]
     },
     "execution_count": 24,
     "metadata": {},
     "output_type": "execute_result"
    }
   ],
   "source": [
    "ir_dataset_f2[\"8-201:2\"]"
   ]
  },
  {
   "cell_type": "code",
   "execution_count": 12,
   "metadata": {},
   "outputs": [],
   "source": [
    "import pickle\n",
    "with open('data/wordunion/rerankedf2-ir-top10-merged-test-union-merged.pickled', 'wb+') as handle:\n",
    "    pickle.dump(ir_dataset_f2, handle, protocol=pickle.HIGHEST_PROTOCOL)"
   ]
  },
  {
   "cell_type": "code",
   "execution_count": null,
   "metadata": {},
   "outputs": [],
   "source": []
  },
  {
   "cell_type": "code",
   "execution_count": null,
   "metadata": {},
   "outputs": [],
   "source": []
  }
 ],
 "metadata": {
  "kernelspec": {
   "display_name": "Python 3",
   "language": "python",
   "name": "python3"
  },
  "language_info": {
   "codemirror_mode": {
    "name": "ipython",
    "version": 3
   },
   "file_extension": ".py",
   "mimetype": "text/x-python",
   "name": "python",
   "nbconvert_exporter": "python",
   "pygments_lexer": "ipython3",
   "version": "3.7.1"
  }
 },
 "nbformat": 4,
 "nbformat_minor": 2
}
