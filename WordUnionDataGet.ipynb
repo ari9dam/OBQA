{
 "cells": [
  {
   "cell_type": "code",
   "execution_count": 1,
   "metadata": {},
   "outputs": [],
   "source": [
    "testlines = open(\"wordintersection/test-trained-intersect.tsv\").readlines()\n",
    "vallines = open(\"wordintersection/val-trained-intersect.tsv\").readlines()"
   ]
  },
  {
   "cell_type": "code",
   "execution_count": 16,
   "metadata": {},
   "outputs": [],
   "source": [
    "mergedtestlines = open(\"wordintersection/top10-merged-test-intersect.tsv\").readlines()\n",
    "mergedvallines = open(\"wordintersection/top10-merged-val-intersect.tsv\").readlines()"
   ]
  },
  {
   "cell_type": "code",
   "execution_count": 5,
   "metadata": {},
   "outputs": [
    {
     "name": "stderr",
     "output_type": "stream",
     "text": [
      "[nltk_data] Downloading package stopwords to\n",
      "[nltk_data]     C:\\Users\\praty\\AppData\\Roaming\\nltk_data...\n",
      "[nltk_data]   Unzipping corpora\\stopwords.zip.\n"
     ]
    },
    {
     "data": {
      "text/plain": [
       "True"
      ]
     },
     "execution_count": 5,
     "metadata": {},
     "output_type": "execute_result"
    }
   ],
   "source": [
    "import nltk\n",
    "nltk.download('stopwords')"
   ]
  },
  {
   "cell_type": "code",
   "execution_count": 6,
   "metadata": {},
   "outputs": [],
   "source": [
    "import nltk\n",
    "from nltk.corpus import stopwords\n",
    "stpwords =  set(stopwords.words('english'))"
   ]
  },
  {
   "cell_type": "code",
   "execution_count": 11,
   "metadata": {},
   "outputs": [],
   "source": [
    "def create_dataset_for_union(lines,fname):\n",
    "    ofd = open(\"wordunion/\"+fname,\"w+\")\n",
    "    for line in lines:\n",
    "        line= line.strip().split(\"\\t\")\n",
    "        fact = set(line[1].split(\" \"))\n",
    "        hyp = set(line[2].split(\" \"))\n",
    "        union_words = fact.union(hyp) - stpwords - set([''])\n",
    "        line[-1] = \" \".join(union_words)\n",
    "        for tup in line[0:-1]:\n",
    "            ofd.write(tup+\"\\t\")\n",
    "        ofd.write(line[-1]+\"\\n\")\n",
    "    ofd.close()"
   ]
  },
  {
   "cell_type": "code",
   "execution_count": 12,
   "metadata": {},
   "outputs": [],
   "source": [
    "create_dataset_for_union(testlines,\"test-trained-union.tsv\")"
   ]
  },
  {
   "cell_type": "code",
   "execution_count": 17,
   "metadata": {},
   "outputs": [],
   "source": [
    "create_dataset_for_union(mergedtestlines,\"ir-top10-merged-test-union.tsv\")"
   ]
  },
  {
   "cell_type": "code",
   "execution_count": null,
   "metadata": {},
   "outputs": [],
   "source": []
  }
 ],
 "metadata": {
  "kernelspec": {
   "display_name": "Python 3",
   "language": "python",
   "name": "python3"
  },
  "language_info": {
   "codemirror_mode": {
    "name": "ipython",
    "version": 3
   },
   "file_extension": ".py",
   "mimetype": "text/x-python",
   "name": "python",
   "nbconvert_exporter": "python",
   "pygments_lexer": "ipython3",
   "version": "3.7.1"
  }
 },
 "nbformat": 4,
 "nbformat_minor": 2
}
